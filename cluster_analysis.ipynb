{
 "cells": [
  {
   "cell_type": "markdown",
   "id": "f8695e41",
   "metadata": {},
   "source": [
    "# Cluster Analysis \n",
    "\n",
    "Noah MacGillivray\n",
    "\n",
    "BIT-446 Assignment \n",
    "\n",
    "Summer 2025"
   ]
  },
  {
   "cell_type": "markdown",
   "id": "f16fabed",
   "metadata": {},
   "source": [
    "## Imports "
   ]
  },
  {
   "cell_type": "code",
   "execution_count": 6,
   "id": "6df07932",
   "metadata": {},
   "outputs": [],
   "source": [
    "import pandas as pd \n",
    "import numpy as np\n",
    "import matplotlib as plt\n",
    "import sklearn \n",
    "import os "
   ]
  },
  {
   "cell_type": "markdown",
   "id": "ab8326c7",
   "metadata": {},
   "source": [
    "## Read in Excel file into dataframe 'pollution2' "
   ]
  },
  {
   "cell_type": "code",
   "execution_count": 7,
   "id": "74b1dee2",
   "metadata": {},
   "outputs": [],
   "source": [
    "# import Excel df using pandas read_excel()\n",
    "pollution2 = pd.read_excel('BIT-446-RS-T2-Pollution-2.xlsx') \n",
    "\n",
    "# print(pollution2) # testing "
   ]
  },
  {
   "cell_type": "markdown",
   "id": "70ca9541",
   "metadata": {},
   "source": [
    "### Information for the dataframe"
   ]
  },
  {
   "cell_type": "code",
   "execution_count": 8,
   "id": "1b10512d",
   "metadata": {},
   "outputs": [
    {
     "name": "stdout",
     "output_type": "stream",
     "text": [
      "<class 'pandas.core.frame.DataFrame'>\n",
      "RangeIndex: 214 entries, 0 to 213\n",
      "Data columns (total 6 columns):\n",
      " #   Column       Non-Null Count  Dtype  \n",
      "---  ------       --------------  -----  \n",
      " 0   Record       214 non-null    int64  \n",
      " 1   Temperature  214 non-null    int64  \n",
      " 2   Wind         214 non-null    float64\n",
      " 3   CO           214 non-null    float64\n",
      " 4   Month        214 non-null    int64  \n",
      " 5   Day          214 non-null    int64  \n",
      "dtypes: float64(2), int64(4)\n",
      "memory usage: 10.2 KB\n"
     ]
    }
   ],
   "source": [
    "# displays header names, column stats \n",
    "pollution2.info()"
   ]
  },
  {
   "cell_type": "markdown",
   "id": "cb50e9e7",
   "metadata": {},
   "source": [
    "### Configure the dataframe to include only the relevant fields of 'Temperature' / 'Wind' / 'CO' "
   ]
  },
  {
   "cell_type": "code",
   "execution_count": 9,
   "id": "0e5be2dc",
   "metadata": {},
   "outputs": [
    {
     "name": "stdout",
     "output_type": "stream",
     "text": [
      "     Temperature   Wind     CO\n",
      "0             76   8.87  10.72\n",
      "1             65   4.16  11.56\n",
      "2             67  11.17  10.79\n",
      "3             72  12.77  11.74\n",
      "4             66   8.81  10.82\n",
      "..           ...    ...    ...\n",
      "209           52  23.30   6.32\n",
      "210           57  18.56   5.21\n",
      "211           55  17.20   7.34\n",
      "212           48  16.69   4.63\n",
      "213           52  19.80   5.54\n",
      "\n",
      "[214 rows x 3 columns]\n"
     ]
    }
   ],
   "source": [
    "pollution2_sub = pollution2[['Temperature','Wind','CO']]\n",
    "\n",
    "print(pollution2_sub)"
   ]
  }
 ],
 "metadata": {
  "kernelspec": {
   "display_name": "Python 3",
   "language": "python",
   "name": "python3"
  },
  "language_info": {
   "codemirror_mode": {
    "name": "ipython",
    "version": 3
   },
   "file_extension": ".py",
   "mimetype": "text/x-python",
   "name": "python",
   "nbconvert_exporter": "python",
   "pygments_lexer": "ipython3",
   "version": "3.10.12"
  }
 },
 "nbformat": 4,
 "nbformat_minor": 5
}
